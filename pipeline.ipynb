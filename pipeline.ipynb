{
 "cells": [
  {
   "cell_type": "code",
   "execution_count": 1,
   "metadata": {},
   "outputs": [],
   "source": [
    "import os\n",
    "import s3fs\n",
    "import pandas as pd\n",
    "import numpy as np"
   ]
  },
  {
   "cell_type": "code",
   "execution_count": 2,
   "metadata": {},
   "outputs": [],
   "source": [
    "S3_ENDPOINT_URL = \"https://\" + os.environ['AWS_S3_ENDPOINT']\n",
    "\n",
    "fs = s3fs.S3FileSystem(client_kwargs = {'endpoint_url' : S3_ENDPOINT_URL})\n",
    "\n",
    "BUCKET = \"malcouffe1/Module_1\"\n",
    "FILE_KEY_S3 = \"/readmission_avc.parquet\"\n",
    "FILE_PATH_S3 = BUCKET + FILE_KEY_S3"
   ]
  },
  {
   "cell_type": "code",
   "execution_count": 3,
   "metadata": {},
   "outputs": [],
   "source": [
    "with fs.open(FILE_PATH_S3, 'rb') as file_in:\n",
    "    df = pd.read_parquet(file_in)"
   ]
  },
  {
   "cell_type": "code",
   "execution_count": 4,
   "metadata": {},
   "outputs": [
    {
     "data": {
      "text/html": [
       "<div>\n",
       "<style scoped>\n",
       "    .dataframe tbody tr th:only-of-type {\n",
       "        vertical-align: middle;\n",
       "    }\n",
       "\n",
       "    .dataframe tbody tr th {\n",
       "        vertical-align: top;\n",
       "    }\n",
       "\n",
       "    .dataframe thead th {\n",
       "        text-align: right;\n",
       "    }\n",
       "</style>\n",
       "<table border=\"1\" class=\"dataframe\">\n",
       "  <thead>\n",
       "    <tr style=\"text-align: right;\">\n",
       "      <th></th>\n",
       "      <th>modeEntree</th>\n",
       "      <th>modeSortie</th>\n",
       "      <th>duree</th>\n",
       "      <th>ghm2</th>\n",
       "      <th>dp</th>\n",
       "      <th>sexe</th>\n",
       "      <th>age</th>\n",
       "      <th>nbActe</th>\n",
       "      <th>nbRum</th>\n",
       "      <th>nbda</th>\n",
       "      <th>id</th>\n",
       "      <th>id_D</th>\n",
       "    </tr>\n",
       "  </thead>\n",
       "  <tbody>\n",
       "    <tr>\n",
       "      <th>0</th>\n",
       "      <td>8</td>\n",
       "      <td>9</td>\n",
       "      <td>0</td>\n",
       "      <td>01M37E</td>\n",
       "      <td>I671</td>\n",
       "      <td>2.0</td>\n",
       "      <td>76.0</td>\n",
       "      <td>4</td>\n",
       "      <td>1</td>\n",
       "      <td>NaN</td>\n",
       "      <td>l19</td>\n",
       "      <td></td>\n",
       "    </tr>\n",
       "    <tr>\n",
       "      <th>1</th>\n",
       "      <td>8</td>\n",
       "      <td>8</td>\n",
       "      <td>3</td>\n",
       "      <td>01C061</td>\n",
       "      <td>I652</td>\n",
       "      <td>2.0</td>\n",
       "      <td>77.0</td>\n",
       "      <td>4</td>\n",
       "      <td>1</td>\n",
       "      <td>1.0</td>\n",
       "      <td>s7e</td>\n",
       "      <td></td>\n",
       "    </tr>\n",
       "    <tr>\n",
       "      <th>2</th>\n",
       "      <td>8</td>\n",
       "      <td>7</td>\n",
       "      <td>13</td>\n",
       "      <td>01M303</td>\n",
       "      <td>I634</td>\n",
       "      <td>NaN</td>\n",
       "      <td>NaN</td>\n",
       "      <td>4</td>\n",
       "      <td>1</td>\n",
       "      <td>7.0</td>\n",
       "      <td>23f</td>\n",
       "      <td></td>\n",
       "    </tr>\n",
       "    <tr>\n",
       "      <th>3</th>\n",
       "      <td>8</td>\n",
       "      <td>8</td>\n",
       "      <td>11</td>\n",
       "      <td>01M301</td>\n",
       "      <td>I639</td>\n",
       "      <td>1.0</td>\n",
       "      <td>83.0</td>\n",
       "      <td>4</td>\n",
       "      <td>2</td>\n",
       "      <td>2.0</td>\n",
       "      <td>8oi</td>\n",
       "      <td>None</td>\n",
       "    </tr>\n",
       "    <tr>\n",
       "      <th>4</th>\n",
       "      <td>8</td>\n",
       "      <td>6</td>\n",
       "      <td>8</td>\n",
       "      <td>01M303</td>\n",
       "      <td>I635</td>\n",
       "      <td>1.0</td>\n",
       "      <td>71.0</td>\n",
       "      <td>4</td>\n",
       "      <td>1</td>\n",
       "      <td>9.0</td>\n",
       "      <td>otz</td>\n",
       "      <td>ld</td>\n",
       "    </tr>\n",
       "    <tr>\n",
       "      <th>...</th>\n",
       "      <td>...</td>\n",
       "      <td>...</td>\n",
       "      <td>...</td>\n",
       "      <td>...</td>\n",
       "      <td>...</td>\n",
       "      <td>...</td>\n",
       "      <td>...</td>\n",
       "      <td>...</td>\n",
       "      <td>...</td>\n",
       "      <td>...</td>\n",
       "      <td>...</td>\n",
       "      <td>...</td>\n",
       "    </tr>\n",
       "    <tr>\n",
       "      <th>1695</th>\n",
       "      <td>8</td>\n",
       "      <td>7</td>\n",
       "      <td>1</td>\n",
       "      <td>01M30T</td>\n",
       "      <td>I614</td>\n",
       "      <td>1.0</td>\n",
       "      <td>88.0</td>\n",
       "      <td>4</td>\n",
       "      <td>1</td>\n",
       "      <td>4.0</td>\n",
       "      <td>kjg</td>\n",
       "      <td></td>\n",
       "    </tr>\n",
       "    <tr>\n",
       "      <th>1696</th>\n",
       "      <td>8</td>\n",
       "      <td>6</td>\n",
       "      <td>10</td>\n",
       "      <td>01M303</td>\n",
       "      <td>I635</td>\n",
       "      <td>1.0</td>\n",
       "      <td>81.0</td>\n",
       "      <td>10</td>\n",
       "      <td>3</td>\n",
       "      <td>7.0</td>\n",
       "      <td>gie</td>\n",
       "      <td>my</td>\n",
       "    </tr>\n",
       "    <tr>\n",
       "      <th>1697</th>\n",
       "      <td>8</td>\n",
       "      <td>8</td>\n",
       "      <td>8</td>\n",
       "      <td>01M301</td>\n",
       "      <td>I639</td>\n",
       "      <td>1.0</td>\n",
       "      <td>68.0</td>\n",
       "      <td>5</td>\n",
       "      <td>3</td>\n",
       "      <td>6.0</td>\n",
       "      <td>6bl</td>\n",
       "      <td></td>\n",
       "    </tr>\n",
       "    <tr>\n",
       "      <th>1698</th>\n",
       "      <td>8</td>\n",
       "      <td>8</td>\n",
       "      <td>11</td>\n",
       "      <td>01M301</td>\n",
       "      <td>I676</td>\n",
       "      <td>2.0</td>\n",
       "      <td>28.0</td>\n",
       "      <td>16</td>\n",
       "      <td>5</td>\n",
       "      <td>7.0</td>\n",
       "      <td>7m8</td>\n",
       "      <td></td>\n",
       "    </tr>\n",
       "    <tr>\n",
       "      <th>1699</th>\n",
       "      <td>8</td>\n",
       "      <td>7</td>\n",
       "      <td>2</td>\n",
       "      <td>01M301</td>\n",
       "      <td>I638</td>\n",
       "      <td>1.0</td>\n",
       "      <td>72.0</td>\n",
       "      <td>0</td>\n",
       "      <td>1</td>\n",
       "      <td>9.0</td>\n",
       "      <td>ag5</td>\n",
       "      <td></td>\n",
       "    </tr>\n",
       "  </tbody>\n",
       "</table>\n",
       "<p>1700 rows × 12 columns</p>\n",
       "</div>"
      ],
      "text/plain": [
       "      modeEntree  modeSortie  duree    ghm2    dp  sexe   age  nbActe  nbRum  \\\n",
       "0              8           9      0  01M37E  I671   2.0  76.0       4      1   \n",
       "1              8           8      3  01C061  I652   2.0  77.0       4      1   \n",
       "2              8           7     13  01M303  I634   NaN   NaN       4      1   \n",
       "3              8           8     11  01M301  I639   1.0  83.0       4      2   \n",
       "4              8           6      8  01M303  I635   1.0  71.0       4      1   \n",
       "...          ...         ...    ...     ...   ...   ...   ...     ...    ...   \n",
       "1695           8           7      1  01M30T  I614   1.0  88.0       4      1   \n",
       "1696           8           6     10  01M303  I635   1.0  81.0      10      3   \n",
       "1697           8           8      8  01M301  I639   1.0  68.0       5      3   \n",
       "1698           8           8     11  01M301  I676   2.0  28.0      16      5   \n",
       "1699           8           7      2  01M301  I638   1.0  72.0       0      1   \n",
       "\n",
       "      nbda   id  id_D  \n",
       "0      NaN  l19        \n",
       "1      1.0  s7e        \n",
       "2      7.0  23f        \n",
       "3      2.0  8oi  None  \n",
       "4      9.0  otz    ld  \n",
       "...    ...  ...   ...  \n",
       "1695   4.0  kjg        \n",
       "1696   7.0  gie    my  \n",
       "1697   6.0  6bl        \n",
       "1698   7.0  7m8        \n",
       "1699   9.0  ag5        \n",
       "\n",
       "[1700 rows x 12 columns]"
      ]
     },
     "execution_count": 4,
     "metadata": {},
     "output_type": "execute_result"
    }
   ],
   "source": [
    "df"
   ]
  },
  {
   "cell_type": "markdown",
   "metadata": {},
   "source": [
    "## 1. Data pre-processing"
   ]
  },
  {
   "cell_type": "code",
   "execution_count": 5,
   "metadata": {},
   "outputs": [
    {
     "data": {
      "text/plain": [
       "modeEntree      0\n",
       "modeSortie      0\n",
       "duree           0\n",
       "ghm2            0\n",
       "dp              0\n",
       "sexe           20\n",
       "age            20\n",
       "nbActe          0\n",
       "nbRum           0\n",
       "nbda          134\n",
       "id              0\n",
       "id_D          200\n",
       "dtype: int64"
      ]
     },
     "execution_count": 5,
     "metadata": {},
     "output_type": "execute_result"
    }
   ],
   "source": [
    "df.isna().sum()"
   ]
  },
  {
   "cell_type": "markdown",
   "metadata": {},
   "source": [
    "On peut supprimer les lignes ou id_D est nul car on ne peut pas préduire dans ce cas la (id_D est la target)."
   ]
  },
  {
   "cell_type": "code",
   "execution_count": 6,
   "metadata": {},
   "outputs": [],
   "source": [
    "df = df.dropna(subset=\"id_D\", axis=0)"
   ]
  },
  {
   "cell_type": "code",
   "execution_count": 7,
   "metadata": {},
   "outputs": [
    {
     "name": "stderr",
     "output_type": "stream",
     "text": [
      "/tmp/ipykernel_64027/667442660.py:1: SettingWithCopyWarning: \n",
      "A value is trying to be set on a copy of a slice from a DataFrame.\n",
      "Try using .loc[row_indexer,col_indexer] = value instead\n",
      "\n",
      "See the caveats in the documentation: https://pandas.pydata.org/pandas-docs/stable/user_guide/indexing.html#returning-a-view-versus-a-copy\n",
      "  df.loc[:, 'rea'] = df.loc[:, 'id_D'].apply(lambda x : 1 if x != '' else 0)\n"
     ]
    }
   ],
   "source": [
    "df.loc[:, 'rea'] = df.loc[:, 'id_D'].apply(lambda x : 1 if x != '' else 0)"
   ]
  },
  {
   "cell_type": "code",
   "execution_count": 8,
   "metadata": {},
   "outputs": [
    {
     "data": {
      "text/html": [
       "<div>\n",
       "<style scoped>\n",
       "    .dataframe tbody tr th:only-of-type {\n",
       "        vertical-align: middle;\n",
       "    }\n",
       "\n",
       "    .dataframe tbody tr th {\n",
       "        vertical-align: top;\n",
       "    }\n",
       "\n",
       "    .dataframe thead th {\n",
       "        text-align: right;\n",
       "    }\n",
       "</style>\n",
       "<table border=\"1\" class=\"dataframe\">\n",
       "  <thead>\n",
       "    <tr style=\"text-align: right;\">\n",
       "      <th></th>\n",
       "      <th>modeEntree</th>\n",
       "      <th>modeSortie</th>\n",
       "      <th>duree</th>\n",
       "      <th>ghm2</th>\n",
       "      <th>dp</th>\n",
       "      <th>sexe</th>\n",
       "      <th>age</th>\n",
       "      <th>nbActe</th>\n",
       "      <th>nbRum</th>\n",
       "      <th>nbda</th>\n",
       "      <th>id</th>\n",
       "      <th>id_D</th>\n",
       "      <th>rea</th>\n",
       "    </tr>\n",
       "  </thead>\n",
       "  <tbody>\n",
       "    <tr>\n",
       "      <th>0</th>\n",
       "      <td>8</td>\n",
       "      <td>9</td>\n",
       "      <td>0</td>\n",
       "      <td>01M37E</td>\n",
       "      <td>I671</td>\n",
       "      <td>2.0</td>\n",
       "      <td>76.0</td>\n",
       "      <td>4</td>\n",
       "      <td>1</td>\n",
       "      <td>NaN</td>\n",
       "      <td>l19</td>\n",
       "      <td></td>\n",
       "      <td>0</td>\n",
       "    </tr>\n",
       "    <tr>\n",
       "      <th>1</th>\n",
       "      <td>8</td>\n",
       "      <td>8</td>\n",
       "      <td>3</td>\n",
       "      <td>01C061</td>\n",
       "      <td>I652</td>\n",
       "      <td>2.0</td>\n",
       "      <td>77.0</td>\n",
       "      <td>4</td>\n",
       "      <td>1</td>\n",
       "      <td>1.0</td>\n",
       "      <td>s7e</td>\n",
       "      <td></td>\n",
       "      <td>0</td>\n",
       "    </tr>\n",
       "    <tr>\n",
       "      <th>2</th>\n",
       "      <td>8</td>\n",
       "      <td>7</td>\n",
       "      <td>13</td>\n",
       "      <td>01M303</td>\n",
       "      <td>I634</td>\n",
       "      <td>NaN</td>\n",
       "      <td>NaN</td>\n",
       "      <td>4</td>\n",
       "      <td>1</td>\n",
       "      <td>7.0</td>\n",
       "      <td>23f</td>\n",
       "      <td></td>\n",
       "      <td>0</td>\n",
       "    </tr>\n",
       "    <tr>\n",
       "      <th>4</th>\n",
       "      <td>8</td>\n",
       "      <td>6</td>\n",
       "      <td>8</td>\n",
       "      <td>01M303</td>\n",
       "      <td>I635</td>\n",
       "      <td>1.0</td>\n",
       "      <td>71.0</td>\n",
       "      <td>4</td>\n",
       "      <td>1</td>\n",
       "      <td>9.0</td>\n",
       "      <td>otz</td>\n",
       "      <td>ld</td>\n",
       "      <td>1</td>\n",
       "    </tr>\n",
       "    <tr>\n",
       "      <th>6</th>\n",
       "      <td>8</td>\n",
       "      <td>7</td>\n",
       "      <td>8</td>\n",
       "      <td>01M302</td>\n",
       "      <td>I639</td>\n",
       "      <td>1.0</td>\n",
       "      <td>92.0</td>\n",
       "      <td>7</td>\n",
       "      <td>2</td>\n",
       "      <td>4.0</td>\n",
       "      <td>np7</td>\n",
       "      <td></td>\n",
       "      <td>0</td>\n",
       "    </tr>\n",
       "    <tr>\n",
       "      <th>...</th>\n",
       "      <td>...</td>\n",
       "      <td>...</td>\n",
       "      <td>...</td>\n",
       "      <td>...</td>\n",
       "      <td>...</td>\n",
       "      <td>...</td>\n",
       "      <td>...</td>\n",
       "      <td>...</td>\n",
       "      <td>...</td>\n",
       "      <td>...</td>\n",
       "      <td>...</td>\n",
       "      <td>...</td>\n",
       "      <td>...</td>\n",
       "    </tr>\n",
       "    <tr>\n",
       "      <th>1695</th>\n",
       "      <td>8</td>\n",
       "      <td>7</td>\n",
       "      <td>1</td>\n",
       "      <td>01M30T</td>\n",
       "      <td>I614</td>\n",
       "      <td>1.0</td>\n",
       "      <td>88.0</td>\n",
       "      <td>4</td>\n",
       "      <td>1</td>\n",
       "      <td>4.0</td>\n",
       "      <td>kjg</td>\n",
       "      <td></td>\n",
       "      <td>0</td>\n",
       "    </tr>\n",
       "    <tr>\n",
       "      <th>1696</th>\n",
       "      <td>8</td>\n",
       "      <td>6</td>\n",
       "      <td>10</td>\n",
       "      <td>01M303</td>\n",
       "      <td>I635</td>\n",
       "      <td>1.0</td>\n",
       "      <td>81.0</td>\n",
       "      <td>10</td>\n",
       "      <td>3</td>\n",
       "      <td>7.0</td>\n",
       "      <td>gie</td>\n",
       "      <td>my</td>\n",
       "      <td>1</td>\n",
       "    </tr>\n",
       "    <tr>\n",
       "      <th>1697</th>\n",
       "      <td>8</td>\n",
       "      <td>8</td>\n",
       "      <td>8</td>\n",
       "      <td>01M301</td>\n",
       "      <td>I639</td>\n",
       "      <td>1.0</td>\n",
       "      <td>68.0</td>\n",
       "      <td>5</td>\n",
       "      <td>3</td>\n",
       "      <td>6.0</td>\n",
       "      <td>6bl</td>\n",
       "      <td></td>\n",
       "      <td>0</td>\n",
       "    </tr>\n",
       "    <tr>\n",
       "      <th>1698</th>\n",
       "      <td>8</td>\n",
       "      <td>8</td>\n",
       "      <td>11</td>\n",
       "      <td>01M301</td>\n",
       "      <td>I676</td>\n",
       "      <td>2.0</td>\n",
       "      <td>28.0</td>\n",
       "      <td>16</td>\n",
       "      <td>5</td>\n",
       "      <td>7.0</td>\n",
       "      <td>7m8</td>\n",
       "      <td></td>\n",
       "      <td>0</td>\n",
       "    </tr>\n",
       "    <tr>\n",
       "      <th>1699</th>\n",
       "      <td>8</td>\n",
       "      <td>7</td>\n",
       "      <td>2</td>\n",
       "      <td>01M301</td>\n",
       "      <td>I638</td>\n",
       "      <td>1.0</td>\n",
       "      <td>72.0</td>\n",
       "      <td>0</td>\n",
       "      <td>1</td>\n",
       "      <td>9.0</td>\n",
       "      <td>ag5</td>\n",
       "      <td></td>\n",
       "      <td>0</td>\n",
       "    </tr>\n",
       "  </tbody>\n",
       "</table>\n",
       "<p>1500 rows × 13 columns</p>\n",
       "</div>"
      ],
      "text/plain": [
       "      modeEntree  modeSortie  duree    ghm2    dp  sexe   age  nbActe  nbRum  \\\n",
       "0              8           9      0  01M37E  I671   2.0  76.0       4      1   \n",
       "1              8           8      3  01C061  I652   2.0  77.0       4      1   \n",
       "2              8           7     13  01M303  I634   NaN   NaN       4      1   \n",
       "4              8           6      8  01M303  I635   1.0  71.0       4      1   \n",
       "6              8           7      8  01M302  I639   1.0  92.0       7      2   \n",
       "...          ...         ...    ...     ...   ...   ...   ...     ...    ...   \n",
       "1695           8           7      1  01M30T  I614   1.0  88.0       4      1   \n",
       "1696           8           6     10  01M303  I635   1.0  81.0      10      3   \n",
       "1697           8           8      8  01M301  I639   1.0  68.0       5      3   \n",
       "1698           8           8     11  01M301  I676   2.0  28.0      16      5   \n",
       "1699           8           7      2  01M301  I638   1.0  72.0       0      1   \n",
       "\n",
       "      nbda   id id_D  rea  \n",
       "0      NaN  l19         0  \n",
       "1      1.0  s7e         0  \n",
       "2      7.0  23f         0  \n",
       "4      9.0  otz   ld    1  \n",
       "6      4.0  np7         0  \n",
       "...    ...  ...  ...  ...  \n",
       "1695   4.0  kjg         0  \n",
       "1696   7.0  gie   my    1  \n",
       "1697   6.0  6bl         0  \n",
       "1698   7.0  7m8         0  \n",
       "1699   9.0  ag5         0  \n",
       "\n",
       "[1500 rows x 13 columns]"
      ]
     },
     "execution_count": 8,
     "metadata": {},
     "output_type": "execute_result"
    }
   ],
   "source": [
    "df"
   ]
  },
  {
   "cell_type": "code",
   "execution_count": 9,
   "metadata": {},
   "outputs": [
    {
     "name": "stderr",
     "output_type": "stream",
     "text": [
      "/tmp/ipykernel_64027/4290123080.py:5: FutureWarning: Setting an item of incompatible dtype is deprecated and will raise in a future error of pandas. Value '['8' '8' '8' ... '8' '8' '8']' has dtype incompatible with int32, please explicitly cast to a compatible dtype first.\n",
      "  df.loc[:, str_col] = df.loc[:, str_col].map(str)\n",
      "/tmp/ipykernel_64027/4290123080.py:5: FutureWarning: Setting an item of incompatible dtype is deprecated and will raise in a future error of pandas. Value '['9' '8' '7' ... '8' '8' '7']' has dtype incompatible with int32, please explicitly cast to a compatible dtype first.\n",
      "  df.loc[:, str_col] = df.loc[:, str_col].map(str)\n",
      "/tmp/ipykernel_64027/4290123080.py:5: FutureWarning: Setting an item of incompatible dtype is deprecated and will raise in a future error of pandas. Value '['2.0' '2.0' 'nan' ... '1.0' '2.0' '1.0']' has dtype incompatible with float64, please explicitly cast to a compatible dtype first.\n",
      "  df.loc[:, str_col] = df.loc[:, str_col].map(str)\n"
     ]
    }
   ],
   "source": [
    "# On convertit les colonnes str dans le bon format :\n",
    "\n",
    "str_col = ['modeEntree', 'modeSortie', 'sexe']\n",
    "\n",
    "df.loc[:, str_col] = df.loc[:, str_col].map(str)\n",
    "\n",
    "df = df.replace('nan', np.nan)"
   ]
  },
  {
   "cell_type": "code",
   "execution_count": 10,
   "metadata": {},
   "outputs": [
    {
     "data": {
      "text/plain": [
       "modeEntree      0\n",
       "modeSortie      0\n",
       "duree           0\n",
       "ghm2            0\n",
       "dp              0\n",
       "sexe           19\n",
       "age            19\n",
       "nbActe          0\n",
       "nbRum           0\n",
       "nbda          121\n",
       "id              0\n",
       "id_D            0\n",
       "rea             0\n",
       "dtype: int64"
      ]
     },
     "execution_count": 10,
     "metadata": {},
     "output_type": "execute_result"
    }
   ],
   "source": [
    "df.isna().sum()"
   ]
  },
  {
   "cell_type": "markdown",
   "metadata": {},
   "source": [
    "On voit que la colonne nbda pose problème. IL s'agit du nombre de comorbidité et on ne sait pas si les valeurs nulles sont 0 ou inconnues. Dans ce cas après consultation avec le métier, les NaN sont des 0 donc on peut les remplacer par des 0."
   ]
  },
  {
   "cell_type": "code",
   "execution_count": 11,
   "metadata": {},
   "outputs": [],
   "source": [
    "df['nbda'] = df['nbda'].fillna(0)"
   ]
  },
  {
   "cell_type": "markdown",
   "metadata": {},
   "source": [
    "Il reste à supprimer les colonnes id et id_D et supprimer les lignes des clients qui sont des décédés puisque ceux la ne seront pas re-admis..."
   ]
  },
  {
   "cell_type": "code",
   "execution_count": 12,
   "metadata": {},
   "outputs": [],
   "source": [
    "df = df[df[\"modeSortie\"] != '9'].drop(['id', 'id_D'], axis=1)"
   ]
  },
  {
   "cell_type": "code",
   "execution_count": 13,
   "metadata": {},
   "outputs": [],
   "source": [
    "file_path = os.path.join(BUCKET, \"dataset.parquet\")\n",
    "with fs.open(file_path, 'wb') as file_out:\n",
    "    df.to_parquet(file_out)"
   ]
  },
  {
   "cell_type": "markdown",
   "metadata": {},
   "source": [
    "# 2. Features Engineering\n",
    "## 2.1 Principes"
   ]
  },
  {
   "cell_type": "code",
   "execution_count": 14,
   "metadata": {},
   "outputs": [],
   "source": [
    "from sklearn.impute import SimpleImputer"
   ]
  },
  {
   "cell_type": "code",
   "execution_count": 15,
   "metadata": {},
   "outputs": [
    {
     "data": {
      "text/html": [
       "<div>\n",
       "<style scoped>\n",
       "    .dataframe tbody tr th:only-of-type {\n",
       "        vertical-align: middle;\n",
       "    }\n",
       "\n",
       "    .dataframe tbody tr th {\n",
       "        vertical-align: top;\n",
       "    }\n",
       "\n",
       "    .dataframe thead th {\n",
       "        text-align: right;\n",
       "    }\n",
       "</style>\n",
       "<table border=\"1\" class=\"dataframe\">\n",
       "  <thead>\n",
       "    <tr style=\"text-align: right;\">\n",
       "      <th></th>\n",
       "      <th>0</th>\n",
       "    </tr>\n",
       "  </thead>\n",
       "  <tbody>\n",
       "    <tr>\n",
       "      <th>0</th>\n",
       "      <td>2.0</td>\n",
       "    </tr>\n",
       "    <tr>\n",
       "      <th>1</th>\n",
       "      <td>1.0</td>\n",
       "    </tr>\n",
       "    <tr>\n",
       "      <th>2</th>\n",
       "      <td>1.0</td>\n",
       "    </tr>\n",
       "    <tr>\n",
       "      <th>3</th>\n",
       "      <td>1.0</td>\n",
       "    </tr>\n",
       "    <tr>\n",
       "      <th>4</th>\n",
       "      <td>2.0</td>\n",
       "    </tr>\n",
       "    <tr>\n",
       "      <th>...</th>\n",
       "      <td>...</td>\n",
       "    </tr>\n",
       "    <tr>\n",
       "      <th>1317</th>\n",
       "      <td>1.0</td>\n",
       "    </tr>\n",
       "    <tr>\n",
       "      <th>1318</th>\n",
       "      <td>1.0</td>\n",
       "    </tr>\n",
       "    <tr>\n",
       "      <th>1319</th>\n",
       "      <td>1.0</td>\n",
       "    </tr>\n",
       "    <tr>\n",
       "      <th>1320</th>\n",
       "      <td>2.0</td>\n",
       "    </tr>\n",
       "    <tr>\n",
       "      <th>1321</th>\n",
       "      <td>1.0</td>\n",
       "    </tr>\n",
       "  </tbody>\n",
       "</table>\n",
       "<p>1322 rows × 1 columns</p>\n",
       "</div>"
      ],
      "text/plain": [
       "        0\n",
       "0     2.0\n",
       "1     1.0\n",
       "2     1.0\n",
       "3     1.0\n",
       "4     2.0\n",
       "...   ...\n",
       "1317  1.0\n",
       "1318  1.0\n",
       "1319  1.0\n",
       "1320  2.0\n",
       "1321  1.0\n",
       "\n",
       "[1322 rows x 1 columns]"
      ]
     },
     "execution_count": 15,
     "metadata": {},
     "output_type": "execute_result"
    }
   ],
   "source": [
    "pd.DataFrame(SimpleImputer(strategy='most_frequent').fit_transform(df[[\"sexe\"]]))"
   ]
  },
  {
   "cell_type": "markdown",
   "metadata": {},
   "source": [
    "## 2.2 Preprocessing Pipeline"
   ]
  },
  {
   "cell_type": "code",
   "execution_count": 16,
   "metadata": {},
   "outputs": [],
   "source": [
    "from sklearn.pipeline import Pipeline\n",
    "from sklearn.compose import ColumnTransformer\n",
    "from sklearn.preprocessing import StandardScaler, Normalizer, MinMaxScaler, OneHotEncoder\n",
    "from sklearn.model_selection import train_test_split, GridSearchCV, StratifiedKFold\n",
    "from sklearn.linear_model import LogisticRegression\n",
    "from sklearn.metrics import accuracy_score, roc_auc_score, f1_score\n",
    "from sklearn.ensemble import RandomForestClassifier\n",
    "\n",
    "from pprint import pprint"
   ]
  },
  {
   "cell_type": "markdown",
   "metadata": {},
   "source": [
    "On sépare les données en features et label. ATTENTION il ne faudra pas fit la Pipeline sur tout le dataset que sur le training set."
   ]
  },
  {
   "cell_type": "code",
   "execution_count": 17,
   "metadata": {},
   "outputs": [],
   "source": [
    "features = df.drop('rea', axis=1)\n",
    "label = df['rea']"
   ]
  },
  {
   "cell_type": "code",
   "execution_count": 18,
   "metadata": {},
   "outputs": [
    {
     "data": {
      "text/plain": [
       "modeEntree     object\n",
       "modeSortie     object\n",
       "duree           int32\n",
       "ghm2           object\n",
       "dp             object\n",
       "sexe           object\n",
       "age           float64\n",
       "nbActe          int32\n",
       "nbRum           int32\n",
       "nbda          float64\n",
       "dtype: object"
      ]
     },
     "execution_count": 18,
     "metadata": {},
     "output_type": "execute_result"
    }
   ],
   "source": [
    "features.dtypes"
   ]
  },
  {
   "cell_type": "code",
   "execution_count": 19,
   "metadata": {},
   "outputs": [],
   "source": [
    "num_features = features.select_dtypes(include=[\"int32\", \"float64\"]).columns\n",
    "cat_features = features.select_dtypes(include=[\"object\"]).columns"
   ]
  },
  {
   "cell_type": "code",
   "execution_count": 20,
   "metadata": {},
   "outputs": [],
   "source": [
    "# On instancie les pipelines pour les colonnes numériques et catégorielles\n",
    "steps = [\n",
    "    ('imp', SimpleImputer(strategy='mean')),\n",
    "    ('scaler', StandardScaler())\n",
    "]\n",
    "num_transformer = Pipeline(steps=steps)\n",
    "\n",
    "steps = [\n",
    "    ('imp', SimpleImputer(strategy='most_frequent')),\n",
    "    ('encoder', OneHotEncoder(handle_unknown='ignore'))\n",
    "]\n",
    "cat_transformer = Pipeline(steps=steps)"
   ]
  },
  {
   "cell_type": "code",
   "execution_count": 21,
   "metadata": {},
   "outputs": [],
   "source": [
    "# On instancie le ColumnTransformers pour les features numériques et catégorielles\n",
    "preprocessor = ColumnTransformer(transformers=[\n",
    "    ('num', num_transformer, num_features),\n",
    "    ('ncatum', cat_transformer, cat_features)\n",
    "])"
   ]
  },
  {
   "cell_type": "markdown",
   "metadata": {},
   "source": [
    "On sépare le dataset en training et test sets."
   ]
  },
  {
   "cell_type": "code",
   "execution_count": 22,
   "metadata": {},
   "outputs": [
    {
     "name": "stdout",
     "output_type": "stream",
     "text": [
      "X_train shape: (1189, 10)\n",
      "y_train shape: (1189,)\n",
      "X_test shape:  (133, 10)\n",
      "y_test shape:  (133,)\n"
     ]
    }
   ],
   "source": [
    "# Première étape : séparer un jeu de test\n",
    "X_train_val, X_test, y_train_val, y_test = train_test_split(\n",
    "    features, label, test_size=0.1, stratify=label, shuffle=True, random_state=42\n",
    ")\n",
    "\n",
    "# Affichage des dimensions\n",
    "print(f\"X_train shape: {X_train_val.shape}\")\n",
    "print(f\"y_train shape: {y_train_val.shape}\")\n",
    "print(f\"X_test shape:  {X_test.shape}\")\n",
    "print(f\"y_test shape:  {y_test.shape}\")"
   ]
  },
  {
   "cell_type": "markdown",
   "metadata": {},
   "source": [
    "# 3. Model"
   ]
  },
  {
   "cell_type": "markdown",
   "metadata": {},
   "source": [
    "## 3.1. LogisticRegression"
   ]
  },
  {
   "cell_type": "code",
   "execution_count": 23,
   "metadata": {},
   "outputs": [],
   "source": [
    "reg_pipe = Pipeline(steps=[\n",
    "    ('preprocessing', preprocessor),\n",
    "    ('classifier', LogisticRegression())\n",
    "])\n",
    "\n",
    "reg_pipe_fitted = reg_pipe.fit(X_train_val, y_train_val)"
   ]
  },
  {
   "cell_type": "code",
   "execution_count": 24,
   "metadata": {},
   "outputs": [
    {
     "name": "stdout",
     "output_type": "stream",
     "text": [
      "Accuracy : 0.9323\n",
      "ROC AUC  : 0.7955\n",
      "F1 Score : 0.7429\n"
     ]
    }
   ],
   "source": [
    "y_pred = reg_pipe_fitted.predict(X_test)\n",
    "\n",
    "print(f\"Accuracy : {accuracy_score(y_test, y_pred):.4f}\")\n",
    "print(f\"ROC AUC  : {roc_auc_score(y_test, y_pred):.4f}\")\n",
    "print(f\"F1 Score : {f1_score(y_test, y_pred):.4f}\")"
   ]
  },
  {
   "cell_type": "markdown",
   "metadata": {},
   "source": [
    "## 3.2. RandomForest"
   ]
  },
  {
   "cell_type": "code",
   "execution_count": 25,
   "metadata": {},
   "outputs": [
    {
     "name": "stdout",
     "output_type": "stream",
     "text": [
      "Accuracy : 0.9248\n",
      "ROC AUC  : 0.7727\n",
      "F1 Score : 0.7059\n"
     ]
    }
   ],
   "source": [
    "# Pipeline\n",
    "reg_pipe = Pipeline(steps=[\n",
    "    ('preprocessing', preprocessor),\n",
    "    ('classifier', RandomForestClassifier())\n",
    "])\n",
    "\n",
    "# Grille de paramètres\n",
    "param_grid = {\n",
    "    'classifier__n_estimators': [50, 100, 300, 500],\n",
    "    'classifier__max_depth': [5, 10, 20, None],\n",
    "    'classifier__max_features': ['sqrt', 'log2']\n",
    "}\n",
    "\n",
    "cv = StratifiedKFold(n_splits=3, shuffle=True, random_state=42)\n",
    "\n",
    "# Création et fit du GridSearch\n",
    "grid_search = GridSearchCV(\n",
    "    estimator=reg_pipe,\n",
    "    param_grid=param_grid,\n",
    "    cv=cv,\n",
    "    n_jobs=-1\n",
    ")\n",
    "\n",
    "grid_search.fit(X_train_val, y_train_val)\n",
    "\n",
    "# Récupération du meilleur modèle\n",
    "reg_pipe_fitted = grid_search.best_estimator_\n",
    "\n",
    "# Prédictions sur le test\n",
    "y_pred = reg_pipe_fitted.predict(X_test)\n",
    "\n",
    "# Affichage des métriques\n",
    "print(f\"Accuracy : {accuracy_score(y_test, y_pred):.4f}\")\n",
    "print(f\"ROC AUC  : {roc_auc_score(y_test, y_pred):.4f}\")\n",
    "print(f\"F1 Score : {f1_score(y_test, y_pred):.4f}\")"
   ]
  },
  {
   "cell_type": "code",
   "execution_count": null,
   "metadata": {},
   "outputs": [],
   "source": []
  }
 ],
 "metadata": {
  "kernelspec": {
   "display_name": ".venv",
   "language": "python",
   "name": "python3"
  },
  "language_info": {
   "codemirror_mode": {
    "name": "ipython",
    "version": 3
   },
   "file_extension": ".py",
   "mimetype": "text/x-python",
   "name": "python",
   "nbconvert_exporter": "python",
   "pygments_lexer": "ipython3",
   "version": "3.10.12"
  }
 },
 "nbformat": 4,
 "nbformat_minor": 2
}
